{
 "cells": [
  {
   "cell_type": "code",
   "execution_count": 1,
   "metadata": {},
   "outputs": [],
   "source": [
    "import numpy as np\n",
    "import pandas as pd\n",
    "import ast\n",
    "from bs4 import BeautifulSoup"
   ]
  },
  {
   "cell_type": "markdown",
   "metadata": {},
   "source": [
    "The processed tweets data is already saved in 'tweets.pkl'. You can get the same result either by reading the pickle file or run through the notebook, which may take 5-10 minutes. To run the notebook, keep the data folder 'TwitterTrends_data' in the same parent folder as the project folder."
   ]
  },
  {
   "cell_type": "code",
   "execution_count": 2,
   "metadata": {},
   "outputs": [],
   "source": [
    "# read pickle file\n",
    "# df = pd.read_pickle('../../data/tweets.pkl')"
   ]
  },
  {
   "cell_type": "markdown",
   "metadata": {},
   "source": [
    "Read trending topics"
   ]
  },
  {
   "cell_type": "code",
   "execution_count": 3,
   "metadata": {},
   "outputs": [],
   "source": [
    "# read trends.csv\n",
    "trends = pd.read_csv(\"../../TwitterTrends_data/trends.csv\",\n",
    "                     header=0,\n",
    "                     usecols=[1,2,3,4],\n",
    "                     names=['filename','trending_date','topic','type'],\n",
    "                     dtype={'trending_date': str})\n",
    "trends['trending_date'] = trends['trending_date'].apply(pd.to_datetime)"
   ]
  },
  {
   "cell_type": "markdown",
   "metadata": {},
   "source": [
    "Read all the tweet objects and collect useful information, more specifically:\n",
    "\n",
    "1. remove non-English tweets and topics\n",
    "2. keep user_id and user_followers_count from column 'user'\n",
    "3. keep a list of hashtags from column 'entities'\n",
    "4. keep id, text and hashtags from column 'retweeted_status'\n",
    "5. extract text from 'source' column\n",
    "6. convert created_at to datetime format"
   ]
  },
  {
   "cell_type": "code",
   "execution_count": 4,
   "metadata": {},
   "outputs": [],
   "source": [
    "# create a list for data frames\n",
    "df_list = []\n",
    "for filename in trends.filename:\n",
    "    # read csv file\n",
    "    df = pd.read_csv(f\"../../TwitterTrends_data/full_tweets/{filename}.csv\",lineterminator='\\n',\n",
    "                     dtype={'id': str,'in_reply_to_status_id_str': str,'in_reply_to_user_id_str': str})\n",
    "    \n",
    "    # remove non English tweets (if tweets in English were less than 60%, remove topic)\n",
    "    if sum(df.lang=='en')/df.lang.count()<0.6:\n",
    "        continue\n",
    "    # keep only English tweets\n",
    "    df = df[df.lang=='en']\n",
    "    \n",
    "    # remove topics with less than 100 tweets\n",
    "    if len(df)<100:\n",
    "        continue\n",
    "    \n",
    "    # for user information, keep only user_id and follower_count\n",
    "    df['user'] = df['user'].apply(ast.literal_eval)\n",
    "    df['user_followers_count'] = df['user'].apply(lambda x:x['followers_count'])\n",
    "    df['user_id'] = df['user'].apply(lambda x:x['id']).astype('str')\n",
    "    \n",
    "    # create a list of hashtags used in the tweet from entities\n",
    "    df['hashtags'] = df['entities'].apply(\n",
    "        lambda x: [hashtag['text'] for hashtag in ast.literal_eval(x)['hashtags']])\n",
    "    \n",
    "    # retrieve original tweet text and id from retweeted_status\n",
    "    if 'retweeted_status' in df.columns:       \n",
    "        df['retweeted_status'] = df['retweeted_status'].apply(\n",
    "            lambda x: ast.literal_eval(x) if isinstance(x,str) else x)\n",
    "        df['original_tweet_id'] = df['retweeted_status'].apply(\n",
    "            lambda x:x['id_str'] if isinstance(x,dict) else x).astype('str') \n",
    "        df['original_tweet_text'] = df['retweeted_status'].apply(\n",
    "            lambda x:x['text'] if isinstance(x,dict) else x)\n",
    "        df['original_tweet_hashtags'] = df['retweeted_status'].apply(\n",
    "            lambda x: [hashtag['text'] for hashtag in x['entities']['hashtags']]\n",
    "            if isinstance(x,dict) and x['entities']['hashtags'] else np.nan)\n",
    "    # some tweet objects do not have a column of retweeted_status\n",
    "    else:\n",
    "        df['original_tweet_id'] = np.nan\n",
    "        df['original_tweet_text'] = np.nan\n",
    "        df['original_tweet_hashtags'] = np.nan\n",
    "    \n",
    "    # source\n",
    "    df['source'] = df['source'].apply(lambda x: BeautifulSoup(x).get_text())\n",
    "    \n",
    "    # convert created_at to datetime\n",
    "    df['created_at'] = df['created_at'].apply(pd.to_datetime)\n",
    "    \n",
    "    # save in_reply_to_status_id and in_reply_to_user_id as string\n",
    "    df['in_reply_to_status_id'] = df['in_reply_to_status_id_str']\n",
    "    df['in_reply_to_user_id'] = df['in_reply_to_user_id_str']\n",
    "    \n",
    "    # filename\n",
    "    df['filename'] = filename\n",
    "    columns_to_keep = ['filename','created_at','hashtags','favorite_count','id','user_id',\n",
    "                       'user_followers_count','retweet_count', 'in_reply_to_status_id',\n",
    "                       'in_reply_to_user_id','source','text','original_tweet_id',\n",
    "                       'original_tweet_text','original_tweet_hashtags']\n",
    "    \n",
    "    # append to a list of dataframes\n",
    "    df_list.append(df[columns_to_keep])\n",
    "df = pd.concat(df_list)"
   ]
  },
  {
   "cell_type": "markdown",
   "metadata": {},
   "source": [
    "Merge dataframes of tweets and trending topics"
   ]
  },
  {
   "cell_type": "code",
   "execution_count": 5,
   "metadata": {},
   "outputs": [],
   "source": [
    "df = df.merge(trends,on='filename').drop(columns=['filename'])"
   ]
  },
  {
   "cell_type": "code",
   "execution_count": 6,
   "metadata": {},
   "outputs": [],
   "source": [
    "# save as pickle file for fast retrieval\n",
    "# df.to_pickle('../../data/tweets.pkl')"
   ]
  }
 ],
 "metadata": {
  "kernelspec": {
   "display_name": "Python 3",
   "language": "python",
   "name": "python3"
  },
  "language_info": {
   "codemirror_mode": {
    "name": "ipython",
    "version": 3
   },
   "file_extension": ".py",
   "mimetype": "text/x-python",
   "name": "python",
   "nbconvert_exporter": "python",
   "pygments_lexer": "ipython3",
   "version": "3.7.1"
  }
 },
 "nbformat": 4,
 "nbformat_minor": 2
}
